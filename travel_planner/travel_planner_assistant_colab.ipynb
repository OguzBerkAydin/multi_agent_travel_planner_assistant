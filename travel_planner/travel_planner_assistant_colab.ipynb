{
  "nbformat": 4,
  "nbformat_minor": 0,
  "metadata": {
    "colab": {
      "provenance": []
    },
    "kernelspec": {
      "name": "python3",
      "display_name": "Python 3"
    },
    "language_info": {
      "name": "python"
    }
  },
  "cells": [
    {
      "cell_type": "markdown",
      "source": [
        "#Dependencies"
      ],
      "metadata": {
        "id": "oSFnG0US-K2b"
      }
    },
    {
      "cell_type": "code",
      "source": [
        "!pip install langchain langchain_core langchain_groq langchain_community langchain langgraph ipython -q"
      ],
      "metadata": {
        "id": "4DpkqFTyOkkQ"
      },
      "execution_count": 21,
      "outputs": []
    },
    {
      "cell_type": "markdown",
      "source": [
        "#Necessary Libraries"
      ],
      "metadata": {
        "id": "x2Q_C8Ni-Ocv"
      }
    },
    {
      "cell_type": "code",
      "source": [
        "import requests\n",
        "import json\n",
        "import random\n",
        "import os, getpass\n",
        "\n",
        "from datetime import datetime, timedelta\n",
        "from typing import TypedDict, Annotated, List, Dict, Any\n",
        "from IPython.display import display, Image\n",
        "\n",
        "from langgraph.graph import StateGraph, END\n",
        "from langchain_core.messages import HumanMessage, AIMessage\n",
        "from langchain_core.prompts import ChatPromptTemplate\n",
        "from langchain_core.runnables.graph import MermaidDrawMethod\n",
        "from langgraph.prebuilt import create_react_agent\n",
        "from langchain_groq import ChatGroq\n",
        "from langchain_community.tools.tavily_search import TavilySearchResults\n",
        "from langchain_core.tools import tool\n",
        "from langchain.prompts import PromptTemplate\n"
      ],
      "metadata": {
        "id": "S0KmtXC6Okeo"
      },
      "execution_count": 22,
      "outputs": []
    },
    {
      "cell_type": "markdown",
      "source": [
        "#Helper method for APIs"
      ],
      "metadata": {
        "id": "YK88RbK--W6T"
      }
    },
    {
      "cell_type": "code",
      "source": [
        "def _set_env(var: str):\n",
        "    if not os.environ.get(var):\n",
        "        os.environ[var] = getpass.getpass(f\"{var}: \")"
      ],
      "metadata": {
        "id": "f6sCVJVBOkZO"
      },
      "execution_count": 23,
      "outputs": []
    },
    {
      "cell_type": "markdown",
      "source": [
        "#Set the APIs"
      ],
      "metadata": {
        "id": "B-ldx056-bkQ"
      }
    },
    {
      "cell_type": "code",
      "source": [
        "_set_env(\"GROQ_API_KEY\")\n",
        "_set_env(\"TAVILY_API_KEY\")\n",
        "_set_env(\"OPENWEATHER_API_KEY\")\n",
        "_set_env(\"EXCHANGE_RATE_API_KEY\")"
      ],
      "metadata": {
        "id": "z8nwYiMXOkTa"
      },
      "execution_count": 24,
      "outputs": []
    },
    {
      "cell_type": "markdown",
      "source": [
        "#LLM"
      ],
      "metadata": {
        "id": "1xLM7Rri-EGp"
      }
    },
    {
      "cell_type": "code",
      "source": [
        "# Initialize LLM\n",
        "llm = ChatGroq(\n",
        "    temperature=0,\n",
        "    model_name=\"llama-3.3-70b-versatile\"\n",
        ")"
      ],
      "metadata": {
        "id": "P7NL1Chp6xLG"
      },
      "execution_count": 25,
      "outputs": []
    },
    {
      "cell_type": "markdown",
      "source": [
        "#State"
      ],
      "metadata": {
        "id": "z9k1rGCo-Bks"
      }
    },
    {
      "cell_type": "code",
      "source": [
        "# Define our State structure to maintain data flow between agents\n",
        "class TravelState(TypedDict):\n",
        "    messages: List[Any]  # Store conversation messages\n",
        "    city: str  # Target city for travel\n",
        "    weather_info: Dict[str, Any]  # Weather data and clothing recommendations\n",
        "    hotel_info: Dict[str, Any]\n",
        "    budget_info: Dict[str, Any]\n",
        "    city_info: Dict[str, Any]  # Hotel search results\n",
        "    travel_plan: str  # Final travel plan\n",
        "    travel_date: str  # Travel date"
      ],
      "metadata": {
        "id": "KkxSLEin68gr"
      },
      "execution_count": 26,
      "outputs": []
    },
    {
      "cell_type": "markdown",
      "source": [
        "# Tools"
      ],
      "metadata": {
        "id": "Q6fGImPt6JrG"
      }
    },
    {
      "cell_type": "code",
      "source": [
        "#@title tavily_tools\n",
        "\n",
        "\n",
        "tavily_tool = TavilySearchResults(max_results=2)"
      ],
      "metadata": {
        "id": "vJToG-jHPL2T",
        "cellView": "form"
      },
      "execution_count": 27,
      "outputs": []
    },
    {
      "cell_type": "code",
      "source": [
        "#@title get_weather_tool\n",
        "\n",
        "@tool\n",
        "def get_weather(city: str, date: str):\n",
        "    \"\"\"\n",
        "    Takes a city name and date, and returns the weather forecast for that date from the OpenWeatherMap API.\n",
        "\n",
        "    Parameters:\n",
        "    city (str): The name of the city for which weather information is requested.\n",
        "    date (str): The date in \"YYYY-MM-DD\" format.\n",
        "\n",
        "    Returns:\n",
        "    dict: Weather information (temperature, wind speed, probability of rain).\n",
        "    str: Error message (if the request fails).\n",
        "    \"\"\"\n",
        "    url = \"https://api.openweathermap.org/data/2.5/forecast\"\n",
        "    api_key = os.environ.get(\"OPENWEATHER_API_KEY\")\n",
        "\n",
        "    params = {\n",
        "        \"q\": city,\n",
        "        \"appid\": api_key,\n",
        "        \"units\": \"metric\",\n",
        "        \"cnt\": 40  # Retrieves data in 3-hour intervals for up to 5 days\n",
        "    }\n",
        "\n",
        "    try:\n",
        "        response = requests.get(url, params=params)\n",
        "        data = response.json()\n",
        "\n",
        "        if response.status_code == 200:\n",
        "            forecast_list = data['list']\n",
        "            selected_date_weather = []\n",
        "\n",
        "            for forecast in forecast_list:\n",
        "                forecast_time = datetime.utcfromtimestamp(forecast['dt']).strftime('%Y-%m-%d')\n",
        "\n",
        "                if forecast_time == date:\n",
        "                    selected_date_weather.append({\n",
        "                        'time': datetime.utcfromtimestamp(forecast['dt']).strftime('%H:%M'),\n",
        "                        'temperature': forecast['main']['temp'],\n",
        "                        'wind_speed': forecast['wind']['speed'],\n",
        "                        'rain_probability': forecast.get('clouds', {}).get('all', 0)\n",
        "                    })\n",
        "\n",
        "            if selected_date_weather:\n",
        "                return {\n",
        "                    'City': data['city']['name'],\n",
        "                    'Date': date,\n",
        "                    'Forecasts': selected_date_weather\n",
        "                }\n",
        "            else:\n",
        "                return f\"No weather data found for {date}.\"\n",
        "\n",
        "        else:\n",
        "            return f\"Error: {data['message']}\"\n",
        "\n",
        "    except Exception as e:\n",
        "        return f\"An error occurred: {str(e)}\"\n"
      ],
      "metadata": {
        "cellView": "form",
        "id": "YcSiXN5hOkM3"
      },
      "execution_count": 28,
      "outputs": []
    },
    {
      "cell_type": "code",
      "source": [
        "#@title get_historical_places tool\n",
        "@tool\n",
        "def get_historical_places(city_name, limit=10, language=\"en\"):\n",
        "    \"\"\"\n",
        "    Fetches historical places in the specified city using the Wikipedia API.\n",
        "\n",
        "    Parameters:\n",
        "    city_name (str): Name of the city to search for historical places\n",
        "    limit (int): Maximum number of results to return (default: 10)\n",
        "    language (str): Wikipedia language code (default: \"en\" - English)\n",
        "\n",
        "    Returns:\n",
        "    list: List of historical places or None if an error occurs\n",
        "    \"\"\"\n",
        "    # Wikipedia API endpoint\n",
        "    url = f\"https://{language}.wikipedia.org/w/api.php\"\n",
        "\n",
        "    # Create more specific search queries\n",
        "    search_queries = [\n",
        "        f\"historical places {city_name}\",\n",
        "        f\"{city_name} historical structures\",\n",
        "        f\"{city_name} museums\",\n",
        "        f\"{city_name} monuments\"\n",
        "    ]\n",
        "\n",
        "    if language == \"en\":\n",
        "        search_queries = [\n",
        "            f\"historical landmarks in {city_name}\",\n",
        "            f\"historical monuments in {city_name}\",\n",
        "            f\"museums in {city_name}\",\n",
        "            f\"ancient sites in {city_name}\"\n",
        "        ]\n",
        "\n",
        "    all_results = []\n",
        "    used_titles = set()  # To prevent duplicate titles\n",
        "\n",
        "    for query in search_queries:\n",
        "        try:\n",
        "            # API parameters\n",
        "            params = {\n",
        "                \"action\": \"query\",\n",
        "                \"format\": \"json\",\n",
        "                \"list\": \"search\",\n",
        "                \"srsearch\": query,\n",
        "                \"srlimit\": limit,\n",
        "                \"srprop\": \"snippet\"\n",
        "            }\n",
        "\n",
        "            # Make API request\n",
        "            response = requests.get(url, params=params)\n",
        "            response.raise_for_status()\n",
        "            data = response.json()\n",
        "\n",
        "            # Get search results\n",
        "            if \"query\" in data and \"search\" in data[\"query\"]:\n",
        "                search_results = data[\"query\"][\"search\"]\n",
        "\n",
        "                # Process each result\n",
        "                for result in search_results:\n",
        "                    # Skip if title already added\n",
        "                    if result[\"title\"] in used_titles:\n",
        "                        continue\n",
        "\n",
        "                    # Filter results that contain the city name or are related to historical places\n",
        "                    if (city_name.lower() in result[\"title\"].lower() or\n",
        "                        \"historical\" in result[\"title\"].lower() or\n",
        "                        \"mosque\" in result[\"title\"].lower() or\n",
        "                        \"palace\" in result[\"title\"].lower() or\n",
        "                        \"museum\" in result[\"title\"].lower() or\n",
        "                        \"monument\" in result[\"title\"].lower() or\n",
        "                        \"church\" in result[\"title\"].lower() or\n",
        "                        \"cathedral\" in result[\"title\"].lower() or\n",
        "                        \"temple\" in result[\"title\"].lower() or\n",
        "                        \"castle\" in result[\"title\"].lower() or\n",
        "                        \"ruins\" in result[\"title\"].lower() or\n",
        "                        \"ancient\" in result[\"title\"].lower()):\n",
        "\n",
        "                        place = {\n",
        "                            \"title\": result[\"title\"],\n",
        "                            \"snippet\": result[\"snippet\"].replace(\"<span class=\\\"searchmatch\\\">\", \"\").replace(\"</span>\", \"\")\n",
        "                        }\n",
        "                        all_results.append(place)\n",
        "                        used_titles.add(result[\"title\"])\n",
        "\n",
        "                        # Exit loop if limit is reached\n",
        "                        if len(all_results) >= limit:\n",
        "                            break\n",
        "\n",
        "            # Exit loop if limit is reached\n",
        "            if len(all_results) >= limit:\n",
        "                break\n",
        "\n",
        "        except requests.exceptions.RequestException as e:\n",
        "            print(f\"API request error: {e}\")\n",
        "            continue\n",
        "        except KeyError as e:\n",
        "            print(f\"Data processing error: {e}\")\n",
        "            continue\n",
        "\n",
        "    # # Print results\n",
        "    # print(f\"\\nHistorical Places in {city_name}:\")\n",
        "    # if not all_results:\n",
        "    #     print(\"No results found.\")\n",
        "    # else:\n",
        "    #     for i, place in enumerate(all_results, 1):\n",
        "    #         print(f\"\\n{i}. {place['title']}\")\n",
        "    #         print(f\"Description: {place['snippet']}\")\n",
        "\n",
        "    return all_results"
      ],
      "metadata": {
        "cellView": "form",
        "id": "LYJK_gsmOkGl"
      },
      "execution_count": 29,
      "outputs": []
    },
    {
      "cell_type": "code",
      "source": [
        "#@title get_currency_rates tool\n",
        "@tool\n",
        "def get_currency_rates(base_currency='TRY', target_currencies=None):\n",
        "    \"\"\"\n",
        "    Fetches currency exchange rate information using the exchangerate-api.com service\n",
        "\n",
        "    Args:\n",
        "        base_currency (str): The base currency code (e.g., 'USD', 'EUR')\n",
        "        target_currencies (str or list): The target currency code(s) to convert to\n",
        "\n",
        "    Returns:\n",
        "        dict: Dictionary containing exchange rate data\n",
        "    \"\"\"\n",
        "    api_key = os.environ['EXCHANGE_RATE_API_KEY']  # Replace with your actual API key\n",
        "    try:\n",
        "        # Build the URL with the API key and base currency\n",
        "        url = f\"https://v6.exchangerate-api.com/v6/{api_key}/latest/{base_currency}\"\n",
        "\n",
        "        # Fetch data from the API\n",
        "        response = requests.get(url)\n",
        "\n",
        "        # Check if the response is successful\n",
        "        response.raise_for_status()\n",
        "\n",
        "        # Parse the JSON response\n",
        "        data = response.json()\n",
        "\n",
        "        # Check if the API returned a successful response\n",
        "        if data['result'] != 'success':\n",
        "            raise Exception(f\"API Error: {data.get('error', 'Unknown error')}\")\n",
        "\n",
        "        # Filter rates if target currencies are specified\n",
        "        rates = data['conversion_rates']\n",
        "        if target_currencies:\n",
        "            # Convert single currency to list format\n",
        "            if isinstance(target_currencies, str):\n",
        "                target_currencies = [target_currencies]\n",
        "\n",
        "            # Filter rates to only include requested currencies\n",
        "            filtered_rates = {currency: rates[currency] for currency in target_currencies if currency in rates}\n",
        "            rates = filtered_rates\n",
        "\n",
        "        # Return only the needed information\n",
        "        return {\n",
        "            'base': base_currency,\n",
        "            'date': data['time_last_update_utc'],\n",
        "            'rates': rates\n",
        "        }\n",
        "\n",
        "    except requests.exceptions.RequestException as e:\n",
        "        print(f\"Error fetching currency rates: {e}\")\n",
        "        raise\n",
        "    except KeyError as e:\n",
        "        print(f\"Unexpected API response format: {e}\")\n",
        "        raise"
      ],
      "metadata": {
        "cellView": "form",
        "id": "gseYhT1JOj_i"
      },
      "execution_count": 30,
      "outputs": []
    },
    {
      "cell_type": "markdown",
      "source": [
        "#Agents"
      ],
      "metadata": {
        "id": "wyfgMfWq6t--"
      }
    },
    {
      "cell_type": "code",
      "source": [
        "# Create the weather agent\n",
        "def create_weather_agent():\n",
        "    weather_agent = create_react_agent(llm, [get_weather])\n",
        "    return weather_agent\n",
        "\n",
        "# Create the hotel search agent\n",
        "def create_hotel_agent():\n",
        "    # Using the Tavily hotel search tool\n",
        "    hotel_agent = create_react_agent(llm, [tavily_tool])\n",
        "    return hotel_agent\n",
        "\n",
        "# Create the travel planner agent\n",
        "def create_travel_planner_agent():\n",
        "    travel_planner = create_react_agent(llm, [])\n",
        "    return travel_planner\n",
        "\n",
        "def extract_date_agent():\n",
        "    date_agent = create_react_agent(llm, [])\n",
        "    return date_agent\n",
        "\n",
        "def city_info_agent():\n",
        "    city_info = create_react_agent(llm, [get_historical_places])\n",
        "    return city_info\n",
        "\n",
        "def create_exchange_rate_agent():\n",
        "    exchange_rate_info_agent = create_react_agent(llm, [get_currency_rates])\n",
        "    return exchange_rate_info_agent"
      ],
      "metadata": {
        "id": "2mU41cPX666m"
      },
      "execution_count": 31,
      "outputs": []
    },
    {
      "cell_type": "markdown",
      "source": [
        "#Nodes"
      ],
      "metadata": {
        "id": "7uzepeX-65FC"
      }
    },
    {
      "cell_type": "code",
      "source": [
        "#@title exchange_rate_node\n",
        "\n",
        "def exchange_rate_node(state: dict) -> dict:\n",
        "    exchange_rate_agent = create_exchange_rate_agent()\n",
        "\n",
        "    exchange_query = f\"\"\"\n",
        "    I'm planning a trip from Turkey to {state['city']}.\n",
        "\n",
        "    1. First, determine the local currency used in {state['city']}.\n",
        "    2. Get the current exchange rate between Turkish Lira (TRY) and the local currency of {state['city']}.\n",
        "    3. Based on this exchange rate, provide me with a budget breakdown for my trip to {state['city']}.\n",
        "\n",
        "    Consider these typical expenses categories:\n",
        "    - Accommodation (based on the hotels you found)\n",
        "    - Meals (budget, mid-range, and high-end options)\n",
        "    - Local transportation\n",
        "    - Attractions and activities\n",
        "    - Shopping\n",
        "\n",
        "    Also suggest how much money I should exchange or if I should use credit cards.\n",
        "    Compare costs between Turkey and {state['city']} to help me understand the relative expenses.\n",
        "    \"\"\"\n",
        "\n",
        "    # Invoke the exchange rate agent\n",
        "    response = exchange_rate_agent.invoke(\n",
        "        {\"messages\": [HumanMessage(content=exchange_query)]}\n",
        "    )\n",
        "\n",
        "    # Extract the response\n",
        "    budget_info = {\n",
        "        \"budget_plan\": response[\"messages\"][-1].content,\n",
        "        \"query_city\": state[\"city\"]\n",
        "    }\n",
        "\n",
        "    return {\"budget_info\": budget_info}"
      ],
      "metadata": {
        "cellView": "form",
        "id": "VSt-rhYk9Rz_"
      },
      "execution_count": 32,
      "outputs": []
    },
    {
      "cell_type": "code",
      "source": [
        "#@title city_info_node\n",
        "\n",
        "def city_info_node(state: dict) -> dict:\n",
        "    city_agent = city_info_agent()\n",
        "\n",
        "    # Create a prompt for getting city information\n",
        "    city_query = f\"What are the most important cultural places and must-visit attractions in {state['city']}? Please provide places to visit\"\n",
        "\n",
        "    # Invoke the city information agent\n",
        "    response = city_agent.invoke(\n",
        "        {\"messages\": [HumanMessage(content=city_query)]}\n",
        "    )\n",
        "\n",
        "    # Extract the response\n",
        "    city_info = {\n",
        "        \"attractions\": response[\"messages\"][-1].content,\n",
        "        \"query_city\": state[\"city\"]\n",
        "    }\n",
        "\n",
        "    return {\"city_info\": city_info}"
      ],
      "metadata": {
        "cellView": "form",
        "id": "av-gOdVs9Z94"
      },
      "execution_count": 33,
      "outputs": []
    },
    {
      "cell_type": "code",
      "source": [
        "#@title extract_date_node\n",
        "\n",
        "def extract_date_node(state: TravelState) -> Dict[str, Any]:\n",
        "\n",
        "    todays_date = datetime.today().strftime(\"%Y-%m-%d\")\n",
        "    user_message = state[\"messages\"][-1].content\n",
        "\n",
        "\n",
        "    prompt = PromptTemplate(\n",
        "        input_variables=[\"text\"],\n",
        "        template=\"You are a date parsing assistant. Convert natural language date expressions to YYYY-MM-DD format. If the user mentions a day of the week, assume it's for the upcoming week. Return only the date with no additional text. Here is the todays date: {todays_date}\\n\\nRequest: {text}\\n\\nCity:\"\n",
        "    )\n",
        "\n",
        "\n",
        "    message = HumanMessage(content=prompt.format(text=user_message, todays_date=todays_date))\n",
        "\n",
        "\n",
        "    travel_date = llm.invoke([message]).content.strip()\n",
        "\n",
        "    return {\"travel_date\": travel_date}"
      ],
      "metadata": {
        "cellView": "form",
        "id": "fEgYAGoY9aKU"
      },
      "execution_count": 34,
      "outputs": []
    },
    {
      "cell_type": "code",
      "source": [
        "#@title extract_city_node\n",
        "\n",
        "# Node function to extract city from user input\n",
        "def extract_city_node(state: TravelState) -> Dict[str, Any]:\n",
        "    # Extract the latest user message\n",
        "    user_message = state[\"messages\"][-1].content\n",
        "\n",
        "    # Create a prompt to extract the city\n",
        "    prompt = PromptTemplate(\n",
        "        input_variables=[\"text\"],\n",
        "        template=\"Extract the name of the city mentioned in the following request. Return only the city name with no additional text.\\n\\nRequest: {text}\\n\\nCity:\"\n",
        "    )\n",
        "\n",
        "    # Format the prompt with the user message\n",
        "    message = HumanMessage(content=prompt.format(text=user_message))\n",
        "\n",
        "    # Invoke the LLM to extract the city\n",
        "    city = llm.invoke([message]).content.strip()\n",
        "\n",
        "    return {\"city\": city}"
      ],
      "metadata": {
        "cellView": "form",
        "id": "t_Wztw6N9aVr"
      },
      "execution_count": 35,
      "outputs": []
    },
    {
      "cell_type": "code",
      "source": [
        "#@title weather_node\n",
        "\n",
        "# Node function to get weather and clothing recommendations\n",
        "def weather_node(state: TravelState) -> Dict[str, Any]:\n",
        "    weather_agent = create_weather_agent()\n",
        "\n",
        "    weather_query = f\"What's the weather in {state['city']}? in {state['travel_date']} Also, what clothes should I pack for this weather?\"\n",
        "\n",
        "    # Invoke the weather agent\n",
        "    response = weather_agent.invoke(\n",
        "        {\"messages\": [HumanMessage(content=weather_query)]}\n",
        "    )\n",
        "\n",
        "    # Extract the response\n",
        "    weather_info = {\n",
        "        \"forecast\": response[\"messages\"][-1].content,\n",
        "        \"query_city\": state[\"city\"]\n",
        "    }\n",
        "\n",
        "    return {\"weather_info\": weather_info}"
      ],
      "metadata": {
        "cellView": "form",
        "id": "WiQulG_J9ag4"
      },
      "execution_count": 36,
      "outputs": []
    },
    {
      "cell_type": "code",
      "source": [
        "#@title hotel_search_node\n",
        "\n",
        "# Node function to search for hotels\n",
        "def hotel_search_node(state: TravelState) -> Dict[str, Any]:\n",
        "    hotel_agent = create_hotel_agent()\n",
        "\n",
        "    # Create a prompt for hotel search\n",
        "    hotel_query = f\"Find me the top 3 hotels in {state['city']} with their ratings, price ranges, and key amenities.\"\n",
        "\n",
        "    # Invoke the hotel search agent\n",
        "    response = hotel_agent.invoke(\n",
        "        {\"messages\": [HumanMessage(content=hotel_query)]}\n",
        "    )\n",
        "\n",
        "    # Extract the response\n",
        "    hotel_info = {\n",
        "        \"results\": response[\"messages\"][-1].content,\n",
        "        \"query_city\": state[\"city\"]\n",
        "    }\n",
        "\n",
        "    return {\"hotel_info\": hotel_info}"
      ],
      "metadata": {
        "cellView": "form",
        "id": "POVBPz4g9ar0"
      },
      "execution_count": 37,
      "outputs": []
    },
    {
      "cell_type": "code",
      "source": [
        "#@title travel_plan_node\n",
        "\n",
        "# Node function to create the travel plan\n",
        "def travel_plan_node(state: TravelState) -> Dict[str, Any]:\n",
        "    travel_planner_agent = create_travel_planner_agent()\n",
        "\n",
        "    # Create a prompt for the travel planner\n",
        "    planning_prompt = f\"\"\"\n",
        "    Create a comprehensive travel plan for {state['city']} based on the following information:\n",
        "\n",
        "    WEATHER INFORMATION:\n",
        "    {state['weather_info']['forecast']}\n",
        "\n",
        "    CITY ATTRACTIONS AND CULTURAL PLACES:\n",
        "    {state['city_info']['attractions']}\n",
        "\n",
        "    HOTEL OPTIONS:\n",
        "    {state['hotel_info']['results']}\n",
        "\n",
        "    BUDGET AND EXCHANGE RATE INFORMATION:\n",
        "    {state['budget_info']['budget_plan']}\n",
        "\n",
        "    Please include:\n",
        "    1. Daily activities considering the weather and must-visit places\n",
        "    2. Recommended hotel from the options\n",
        "    3. Packing list based on the weather and write the weather forecast\n",
        "    4. Budget considerations and money management tips\n",
        "    5. Cultural insights and special recommendations for this destination\n",
        "    \"\"\"\n",
        "\n",
        "    # Invoke the travel planner agent\n",
        "    response = travel_planner_agent.invoke(\n",
        "        {\"messages\": [HumanMessage(content=planning_prompt)]}\n",
        "    )\n",
        "\n",
        "    # Extract the response\n",
        "    travel_plan = response[\"messages\"][-1].content\n",
        "\n",
        "    return {\"travel_plan\": travel_plan, \"messages\": state[\"messages\"] + [HumanMessage(content=travel_plan)]}"
      ],
      "metadata": {
        "cellView": "form",
        "id": "5P8gdFX79rft"
      },
      "execution_count": 38,
      "outputs": []
    },
    {
      "cell_type": "markdown",
      "source": [
        "#Build Graph and Visualize"
      ],
      "metadata": {
        "id": "9WBHJsF67aWi"
      }
    },
    {
      "cell_type": "code",
      "source": [
        "# Build the workflow\n",
        "def build_travel_planning_workflow():\n",
        "    # Initialize the graph\n",
        "    workflow = StateGraph(TravelState)\n",
        "\n",
        "    # Add nodes to the graph\n",
        "    workflow.add_node(\"extract_city\", extract_city_node)\n",
        "    workflow.add_node(\"extract_date\", extract_date_node)\n",
        "    workflow.add_node(\"get_weather\", weather_node)\n",
        "    workflow.add_node(\"get_city_info\", city_info_node)\n",
        "    workflow.add_node(\"search_hotels\", hotel_search_node)\n",
        "    workflow.add_node(\"get_budget_info\", exchange_rate_node)  # Add the new node\n",
        "    workflow.add_node(\"create_travel_plan\", travel_plan_node)\n",
        "\n",
        "    # Define the sequential flow according to requirements\n",
        "    workflow.set_entry_point(\"extract_city\")\n",
        "\n",
        "    # City -> Date -> Weather -> City Info -> Hotel -> Budget -> Travel Plan -> END\n",
        "    workflow.add_edge(\"extract_city\", \"extract_date\")\n",
        "    workflow.add_edge(\"extract_date\", \"get_weather\")\n",
        "    workflow.add_edge(\"get_weather\", \"get_city_info\")\n",
        "    workflow.add_edge(\"get_city_info\", \"search_hotels\")\n",
        "    workflow.add_edge(\"search_hotels\", \"get_budget_info\")  # Hotel -> Budget\n",
        "    workflow.add_edge(\"get_budget_info\", \"create_travel_plan\")  # Budget -> Travel Plan\n",
        "    workflow.add_edge(\"create_travel_plan\", END)\n",
        "\n",
        "    # Compile the graph\n",
        "    return workflow.compile()\n",
        "\n",
        "from IPython.display import Image, display\n",
        "\n",
        "try:\n",
        "    display(Image(build_travel_planning_workflow().get_graph().draw_mermaid_png()))\n",
        "except Exception:\n",
        "    # This requires some extra dependencies and is optional\n",
        "    pass"
      ],
      "metadata": {
        "colab": {
          "base_uri": "https://localhost:8080/",
          "height": 0
        },
        "id": "bEycabm77Y2j",
        "outputId": "325fc676-f5cb-438c-829f-55b80d853d96"
      },
      "execution_count": 39,
      "outputs": [
        {
          "output_type": "display_data",
          "data": {
            "image/png": "[encoded data removed]",
            "text/plain": [
              "<IPython.core.display.Image object>"
            ]
          },
          "metadata": {}
        }
      ]
    },
    {
      "cell_type": "markdown",
      "source": [
        "#Run The Assistant"
      ],
      "metadata": {
        "id": "sXQwm-ob9zs2"
      }
    },
    {
      "cell_type": "code",
      "source": [
        "# Build the travel planning workflow\n",
        "travel_app = build_travel_planning_workflow()\n",
        "\n",
        "# Initialize with a user query\n",
        "user_query = \"I'm planning a trip to San Francisco this saturday. Can you help me plan my trip?\"\n",
        "\n",
        "# Set up the initial state\n",
        "initial_state = {\n",
        "    \"messages\": [HumanMessage(content=user_query)],\n",
        "    \"city\": \"\",\n",
        "    \"weather_info\": {},\n",
        "    \"city_info\": {},\n",
        "    \"hotel_info\": {},\n",
        "    \"budget_info\": {},\n",
        "    \"travel_plan\": \"\",\n",
        "    \"travel_date\": \"\"\n",
        "}\n",
        "\n",
        "\n",
        "# Execute the workflow\n",
        "result = travel_app.invoke(initial_state)\n",
        "\n",
        "# Print the final travel plan\n",
        "print(\"\\n===== FINAL TRAVEL PLAN =====\\n\")\n",
        "print(result[\"travel_plan\"])\n",
        "\n",
        "# to see the agents responses.\n",
        "# print(\"*\\n\"*150)\n",
        "# print(result)\n",
        "# print(result['hotel_info']['results'])\n",
        "# print(result['weather_info']['forecast'])\n",
        "# print(result['travel_date'])\n",
        "# print(\"\\n===== CITY INFORMATION =====\\n\")\n",
        "# print(result[\"city_info\"][\"attractions\"])\n",
        "# print(\"\\n===== BUDGET INFORMATION =====\\n\")\n",
        "# print(result[\"budget_info\"][\"budget_plan\"])"
      ],
      "metadata": {
        "colab": {
          "base_uri": "https://localhost:8080/"
        },
        "id": "AU2hqTOQ7hpy",
        "outputId": "5af22349-00dc-4484-8a84-4eb0504a6170"
      },
      "execution_count": 40,
      "outputs": [
        {
          "output_type": "stream",
          "name": "stdout",
          "text": [
            "\n",
            "===== FINAL TRAVEL PLAN =====\n",
            "\n",
            "**Comprehensive Travel Plan for San Francisco**\n",
            "\n",
            "**Weather Forecast:**\n",
            "For April 6, 2025, San Francisco is expected to be mostly cloudy with a high temperature of 16.46°C and a low of 11.65°C. There is a high probability of rain throughout the day, with a maximum probability of 100% at 21:00. The wind speed will be moderate, ranging from 0.62 to 4.63 m/s.\n",
            "\n",
            "**Packing List:**\n",
            "\n",
            "* Waterproof or water-resistant clothing (raincoat or umbrella)\n",
            "* Layers of breathable clothing (t-shirts, sweaters, and light jackets)\n",
            "* Comfortable shoes or boots with good grip\n",
            "* Warm clothing (scarf or hat) for cooler morning and evening hours\n",
            "* Power adapter for charging electronic devices\n",
            "* Camera for capturing city attractions\n",
            "* Reusable water bottle\n",
            "* Snacks (especially for rainy days)\n",
            "\n",
            "**Daily Activities:**\n",
            "\n",
            "Day 1:\n",
            "\n",
            "* 9:00 AM: Start the day with a visit to the **Presidio of San Francisco**, a former military base turned national park.\n",
            "* 11:00 AM: Take a walk to the **San Francisco Maritime National Historical Park** and explore the historic ships and waterfront.\n",
            "* 1:00 PM: Grab lunch at a nearby restaurant in **Fisherman's Wharf**.\n",
            "* 2:30 PM: Visit the **California Historical Landmarks in San Francisco** and learn about the city's rich history.\n",
            "* 5:00 PM: Take a ride on the **San Francisco cable car system** to **Union Square**, a vibrant public square surrounded by shopping and dining options.\n",
            "\n",
            "Day 2:\n",
            "\n",
            "* 9:00 AM: Visit **Mission San Francisco de Asís (Mission Dolores)**, a historic mission and one of the oldest buildings in San Francisco.\n",
            "* 11:00 AM: Explore the **San Francisco City Hall**, a stunning example of Beaux-Arts architecture.\n",
            "* 1:00 PM: Have lunch at a nearby café in the **Haight-Ashbury** neighborhood.\n",
            "* 2:30 PM: Visit the **Old San Francisco Mint**, a historic landmark and former mint.\n",
            "* 5:00 PM: Take a stroll through **Treasure Island**, a man-made island with stunning views of the Bay Bridge and San Francisco skyline.\n",
            "\n",
            "Day 3:\n",
            "\n",
            "* 9:00 AM: Visit the **National Register of Historic Places listings in San Francisco**, which includes many of the city's historic landmarks.\n",
            "* 11:00 AM: Take a tour of the **San Francisco cable car system** and learn about its history and mechanics.\n",
            "* 1:00 PM: Grab lunch at a nearby restaurant in **Chinatown**.\n",
            "* 2:30 PM: Explore the **List of San Francisco Designated Landmarks**, which includes many of the city's unique and historic buildings.\n",
            "* 5:00 PM: End the day with a visit to **Saint Francis of Assisi Church**, a beautiful church with stunning stained-glass windows.\n",
            "\n",
            "**Recommended Hotel:**\n",
            "Based on the options provided, I recommend **The Marker Union Square San Francisco**. This hotel offers a welcoming ambiance, attentive staff, and a quality onsite restaurant. With a 4.5/5 rating and prices starting from $250 per night, it's an excellent choice for its location and amenities.\n",
            "\n",
            "**Budget Considerations and Money Management Tips:**\n",
            "\n",
            "* Exchange some Turkish Lira for US Dollars (around 5,000-10,000 TRY) for initial expenses.\n",
            "* Use credit cards for larger purchases to avoid exchange rate fluctuations.\n",
            "* Budget for accommodation: $100-150 per night (approximately 3,790-5,685 TRY) for a mid-range option.\n",
            "* Budget for meals: $15-25 per meal (approximately 570-950 TRY) for a mid-range option.\n",
            "* Budget for local transportation: $3-5 per ride (approximately 115-190 TRY) for public transportation.\n",
            "* Budget for attractions and activities: $20-30 per person (approximately 760-1,140 TRY) for museums and tours.\n",
            "\n",
            "**Cultural Insights and Special Recommendations:**\n",
            "\n",
            "* San Francisco is known for its diverse neighborhoods, each with its own unique character and charm. Be sure to explore **Haight-Ashbury**, **Chinatown**, and **Fisherman's Wharf** to experience the city's vibrant culture.\n",
            "* The city is also famous for its food scene, with a wide range of options from fresh seafood to authentic Chinese cuisine. Be sure to try some of the local specialties, such as **sourdough bread** and **Dungeness crab**.\n",
            "* San Francisco is a walkable city, and many of its attractions are within walking distance. Consider purchasing a **San Francisco CityPASS**, which grants access to many of the city's top attractions and public transportation.\n",
            "* Be sure to check the weather forecast before heading out each day and pack accordingly. The city's weather can be unpredictable, and it's always a good idea to be prepared.\n",
            "\n",
            "By following this comprehensive travel plan, you'll be well-prepared for your trip to San Francisco and able to experience all that the city has to offer. Enjoy your trip!\n"
          ]
        }
      ]
    }
  ]
}